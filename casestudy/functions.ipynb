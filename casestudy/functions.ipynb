{
 "cells": [
  {
   "cell_type": "markdown",
   "metadata": {},
   "source": [
    "<a id=\"top\"></a>\n",
    "<center><h1>Case Study Function Scripts</h1></center>"
   ]
  },
  {
   "cell_type": "code",
   "execution_count": null,
   "metadata": {
    "collapsed": true
   },
   "outputs": [],
   "source": [
    "from time import time\n",
    "from sklearn import preprocessing\n",
    "\n",
    "import numpy as np\n",
    "import matplotlib.pyplot as plt\n",
    "from mpl_toolkits.mplot3d import Axes3D\n",
    "from sklearn import preprocessing\n",
    "from sklearn.decomposition import PCA, KernelPCA\n",
    "from sklearn import manifold\n",
    "from sklearn import decomposition\n",
    "import pandas as pd"
   ]
  },
  {
   "cell_type": "markdown",
   "metadata": {},
   "source": [
    "<a id='RefineData'></a>\n",
    "\n",
    "## Function: RefineData (Data with missing value, classes)"
   ]
  },
  {
   "cell_type": "code",
   "execution_count": null,
   "metadata": {
    "collapsed": true
   },
   "outputs": [],
   "source": [
    "# %load ../functions/RefineData.py\n",
    "\"\"\"\n",
    "Created on Mon Sep  4 15:38:54 2017\n",
    "\n",
    "@author: zx621293\n",
    "\"\"\"\n",
    "\n",
    "def RefineData (protein,labelling): #(input data, labelled ground truth)\n",
    "    mydata=protein.values.astype(\"float64\")\n",
    "    delrow= list()\n",
    "    delcolumn= list()\n",
    "    for column in np.linspace(0,mydata.shape[1]-1,mydata.shape[1]).astype('int'):\n",
    "        if sum(mydata[:,column]!=mydata[:,column])>3: #number of nan in each row\n",
    "            delcolumn.append(column)\n",
    "    print('%i proteins covariates are deleted due to more than three missing value for that protein' %len(delcolumn))\n",
    "    print(delcolumn)\n",
    "    \n",
    "    \n",
    "    for row in np.linspace(0,mydata.shape[0]-1,mydata.shape[0]).astype('int'):\n",
    "        if sum(mydata[row]!=mydata[row])>=3: #number of nan in each row\n",
    "            delrow.append(row)\n",
    "    print('%i experiments are deleted due to more than three missing protein value for that experiment' %len(delrow))\n",
    "    print(delrow)\n",
    "            \n",
    "    mydata_refine = np.delete(mydata,(delrow),0)\n",
    "    mydata_refine = np.delete(mydata_refine,(delcolumn),1)\n",
    "    label_each = np.array([labelling])\n",
    "    label_refine = np.delete(label_each,(delrow),1)\n",
    "    \n",
    "    print('Check no more missing value in our refined dataset: %s' %((mydata_refine!=mydata_refine).sum()==0))\n",
    "    \n",
    "    if (mydata_refine!=mydata_refine).sum()>0:\n",
    "        mydata = mydata[np.all(mydata > 0, axis=1)]\n",
    "        label_refine = label_refine[np.all(mydata > 0, axis=1)]\n",
    "\n",
    "            \n",
    "    print('The resulting input data matrix is refined from \\n%i by %i \\nto \\n%i by %i dimension' %(protein.shape+mydata_refine.shape), )\n",
    "\n",
    "    return mydata_refine, label_refine[0], delrow, delcolumn; #(refined input data with refined labelled ground truth)\n"
   ]
  },
  {
   "cell_type": "markdown",
   "metadata": {},
   "source": [
    "[[back to top](#RefineData)]"
   ]
  },
  {
   "cell_type": "markdown",
   "metadata": {
    "collapsed": true
   },
   "source": [
    "<a id='plot_gallery'></a>\n",
    "\n",
    "## Function: plot_gallery (title, images, no. of columns, no. of rows)"
   ]
  },
  {
   "cell_type": "code",
   "execution_count": null,
   "metadata": {
    "collapsed": true
   },
   "outputs": [],
   "source": [
    "# %load ../functions/plot_gallery.py\n",
    "def plot_gallery(title, images, n_col, n_row):\n",
    "    n = n_col*n_row\n",
    "    plt.figure(figsize=(2. * n_col, 2.26 * n_row))\n",
    "    plt.suptitle(title, size=16)\n",
    "    ####!!!!!!!!!!!!!!!!!!!!!!!!!!!!!!!!!!!! shen qi\n",
    "    for i, comp in enumerate(images[:n]):\n",
    "        plt.subplot(n_row, n_col, i + 1)\n",
    "        vmax = max(comp.max(), -comp.min())\n",
    "        plt.imshow(comp.reshape(image_shape), cmap=plt.cm.gray,\n",
    "                   interpolation='nearest',\n",
    "                   vmin=-vmax, vmax=vmax)\n",
    "        plt.xticks(())\n",
    "        plt.yticks(())\n",
    "    plt.subplots_adjust(0.01, 0.05, 0.99, 0.93, 0.04, 0.)\n",
    "    plt.show()"
   ]
  },
  {
   "cell_type": "markdown",
   "metadata": {},
   "source": [
    "[[back to top](#plot_gallery)]"
   ]
  },
  {
   "cell_type": "code",
   "execution_count": null,
   "metadata": {
    "collapsed": true
   },
   "outputs": [],
   "source": []
  }
 ],
 "metadata": {
  "kernelspec": {
   "display_name": "Python 3",
   "language": "python",
   "name": "python3"
  },
  "language_info": {
   "codemirror_mode": {
    "name": "ipython",
    "version": 3
   },
   "file_extension": ".py",
   "mimetype": "text/x-python",
   "name": "python",
   "nbconvert_exporter": "python",
   "pygments_lexer": "ipython3",
   "version": "3.6.1"
  }
 },
 "nbformat": 4,
 "nbformat_minor": 2
}
