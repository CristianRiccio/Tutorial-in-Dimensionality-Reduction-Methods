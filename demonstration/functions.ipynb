{
 "cells": [
  {
   "cell_type": "code",
   "execution_count": 1,
   "metadata": {},
   "outputs": [
    {
     "data": {
      "application/javascript": [
       "\n",
       "$('#maintoolbar-container').children('#toggleButton').remove()\n",
       "\n",
       "var toggle_button = (\"<button id='toggleButton' type='button'>Show Code</button>\");\n",
       "$('#maintoolbar-container').append(toggle_button);\n",
       "\n",
       "var code_shown = false;\n",
       "\n",
       "function code_toggle()\n",
       "{\n",
       "\n",
       "    if (code_shown)\n",
       "    {\n",
       "        console.log(\"code shown\")\n",
       "        $('div.input').hide('500');\n",
       "        $('#toggleButton').text('Show Code');\n",
       "    }\n",
       "    else\n",
       "    {\n",
       "        console.log(\"code not shown\")\n",
       "        $('div.input').show('500');\n",
       "        $('#toggleButton').text('Hide Code');\n",
       "    }\n",
       "\n",
       "    code_shown = !code_shown;\n",
       "}\n",
       "\n",
       "$(document).ready(function()\n",
       "{\n",
       "    code_shown=false;\n",
       "    $('div.input').hide();\n",
       "});\n",
       "\n",
       "$('#toggleButton').on('click', code_toggle);"
      ],
      "text/plain": [
       "<IPython.core.display.Javascript object>"
      ]
     },
     "metadata": {},
     "output_type": "display_data"
    }
   ],
   "source": [
    "%run ../button.ipynb"
   ]
  },
  {
   "cell_type": "markdown",
   "metadata": {},
   "source": [
    "<a id=\"top\"></a>\n",
    "<center><h1>Demonstration Function Scripts</h1></center>"
   ]
  },
  {
   "cell_type": "code",
   "execution_count": 1,
   "metadata": {
    "collapsed": true
   },
   "outputs": [],
   "source": [
    "from time import time\n",
    "\n",
    "import numpy as np\n",
    "import matplotlib.pyplot as plt\n",
    "from mpl_toolkits.mplot3d import Axes3D\n",
    "from sklearn import preprocessing\n",
    "from sklearn.decomposition import PCA, KernelPCA\n",
    "from sklearn import manifold\n",
    "from sklearn import decomposition\n",
    "import pandas as pd\n"
   ]
  },
  {
   "cell_type": "markdown",
   "metadata": {},
   "source": [
    "<a id='plot_embedding'></a>\n",
    "\n",
    "## Function: plot_embedding (handwritten digits, title)"
   ]
  },
  {
   "cell_type": "code",
   "execution_count": null,
   "metadata": {
    "collapsed": true
   },
   "outputs": [],
   "source": [
    "# %load ../functions/plot_embedding.py\n",
    "\"\"\"\n",
    "Created on Thu Sep  7 12:10:23 2017\n",
    "\n",
    "@author: zx621293\n",
    "\"\"\"\n",
    "\n",
    "# Scale and visualize the embedding vectors\n",
    "def plot_embedding(X, title=None):\n",
    "\n",
    "    plt.figure()#############\n",
    "    ax = plt.subplot(111)\n",
    "    for i in range(X.shape[0]):\n",
    "        plt.text(X[i, 0], X[i, 1], \n",
    "                 str(digits.target[i]),color=plt.cm.Set1(digits.target[i] ),\n",
    "                 fontdict={'weight': 'bold', 'size': 9})\n",
    "########################plotting numbers\n",
    "\n",
    "    if hasattr(offsetbox, 'AnnotationBbox'):\n",
    "        # only print thumbnails with matplotlib > 1.0\n",
    "        shown_images = np.array([[1., 1.]])  # just something big\n",
    "        for i in range(digits.data.shape[0]):\n",
    "            dist = np.sum((X[i] - shown_images) ** 2, 1)\n",
    "            if np.min(dist) < 4e-3:\n",
    "                # don't show points that are too close\n",
    "                continue #!!!!it applies to if loop\n",
    "            shown_images = np.r_[shown_images, [X[i]]]\n",
    "            imagebox = offsetbox.AnnotationBbox(offsetbox.OffsetImage(digits.images[i], cmap=plt.cm.gray_r),\n",
    "                X[i])\n",
    "            ax.add_artist(imagebox)\n",
    "    plt.xticks([]), plt.yticks([])\n",
    "    if title is not None:\n",
    "        plt.title(title)    \n",
    "    plt.axis()\n",
    "    plt.show()"
   ]
  },
  {
   "cell_type": "markdown",
   "metadata": {},
   "source": [
    "[[back to top](#plot_embedding)]"
   ]
  },
  {
   "cell_type": "markdown",
   "metadata": {},
   "source": [
    "<a id='RefineData'></a>\n",
    "\n",
    "## Function: RefineData (dataset with missing value, labelled classes)"
   ]
  },
  {
   "cell_type": "code",
   "execution_count": 27,
   "metadata": {
    "collapsed": true
   },
   "outputs": [],
   "source": [
    "# %load ../functions/RefineData.py\n",
    "\"\"\"\n",
    "Created on Mon Sep  4 15:38:54 2017\n",
    "\n",
    "@author: zx621293\n",
    "\"\"\"\n",
    "\n",
    "def RefineData (protein,labelling): #(input data, labelled ground truth)\n",
    "    mydata=protein.values.astype(\"float64\")\n",
    "    delrow= list()\n",
    "    delcolumn= list()\n",
    "    for column in np.linspace(0,mydata.shape[1]-1,mydata.shape[1]).astype('int'):\n",
    "        if sum(mydata[:,column]!=mydata[:,column])>3: #number of nan in each row\n",
    "            delcolumn.append(column)\n",
    "    print('%i proteins covariates are deleted due to more than three missing value for that protein' %len(delcolumn))\n",
    "    print(delcolumn)\n",
    "    \n",
    "    \n",
    "    for row in np.linspace(0,mydata.shape[0]-1,mydata.shape[0]).astype('int'):\n",
    "        if sum(mydata[row]!=mydata[row])>=3: #number of nan in each row\n",
    "            delrow.append(row)\n",
    "    print('%i experiments are deleted due to more than three missing protein value for that experiment' %len(delrow))\n",
    "    print(delrow)\n",
    "            \n",
    "    mydata_refine = np.delete(mydata,(delrow),0)\n",
    "    mydata_refine = np.delete(mydata_refine,(delcolumn),1)\n",
    "    label_each = np.array([labelling])\n",
    "    label_refine = np.delete(label_each,(delrow),1)\n",
    "    \n",
    "    print('Check no more missing value in our refined dataset: %s' %((mydata_refine!=mydata_refine).sum()==0))\n",
    "    \n",
    "    if (mydata_refine!=mydata_refine).sum()>0:\n",
    "        mydata = mydata[np.all(mydata > 0, axis=1)]\n",
    "        label_refine = label_refine[np.all(mydata > 0, axis=1)]\n",
    "\n",
    "            \n",
    "    print('The resulting input data matrix is refined from \\n%i by %i \\nto \\n%i by %i dimension' %(protein.shape+mydata_refine.shape), )\n",
    "\n",
    "    return mydata_refine, label_refine[0], delrow, delcolumn; #(refined input data with refined labelled ground truth)\n",
    "\n",
    "\n",
    "\n",
    "\n"
   ]
  },
  {
   "cell_type": "markdown",
   "metadata": {},
   "source": [
    "[[back to top](#RefineData)]"
   ]
  },
  {
   "cell_type": "markdown",
   "metadata": {},
   "source": [
    "<a id='myTSNE'></a>\n",
    "\n",
    "## Function: myTSNE (refined dataset, refined classes, labels, perplexity)"
   ]
  },
  {
   "cell_type": "code",
   "execution_count": null,
   "metadata": {
    "collapsed": true
   },
   "outputs": [],
   "source": [
    "# %load ../functions/myTSNE.py\n",
    "\"\"\"\n",
    "Created on Mon Sep  4 15:40:18 2017\n",
    "\n",
    "@author: zx621293\n",
    "\"\"\"\n",
    "\n",
    "\n",
    "########################using t-SNE##################################\n",
    "def myTSNE(X,label_refine,label,perplexity):\n",
    "    n = X.shape[0]\n",
    "    if len(label_refine) != n:\n",
    "        label_refine = [0]*n\n",
    "        label = ['no ground truth']\n",
    "        print('No ground truth provided in this dataset')\n",
    "    (n_sample,n_protein) = X.shape\n",
    "    l = len(perplexity)\n",
    "    k = len(label)\n",
    "    \n",
    "    fig = plt.figure(figsize=(30,(5*l))) \n",
    "    plt.suptitle(\"t-SNE with accepted %i experiments, each with %i covariates. \\nClasses: %s \" \n",
    "                 % (X.shape[0],X.shape[1],label), fontsize=24)\n",
    "    number = np.linspace(1,l,l) \n",
    "    \n",
    "    YY = list()\n",
    "    \n",
    "    for i,perp in zip(number,perplexity):\n",
    "        t0 = time()\n",
    "        tsne = manifold.TSNE(n_components=2, init='pca', random_state=0, perplexity=perp)\n",
    "        Y = tsne.fit_transform(X)\n",
    "        YY.append(Y)\n",
    "        t1 = time()\n",
    "        print(\"t-SNE with perpexity %2.f: %.2g sec\" % (perp,t1 - t0))\n",
    "        fig.add_subplot(l/2,2,i)\n",
    "        for j,lab in zip(np.linspace(0,k-1,k),label):\n",
    "            plt.scatter(Y[label_refine==j, 0], Y[label_refine==j, 1],cmap=plt.cm.Spectral,label=lab)\n",
    "        plt.title(\"t-SNE with perpexity %.2f (%.2g sec)\" % (perp,t1 - t0))\n",
    "        plt.legend(loc=4)\n",
    "        plt.axis()\n",
    "    plt.show()  \n",
    "    return YY; #principal component matrix"
   ]
  },
  {
   "cell_type": "markdown",
   "metadata": {},
   "source": [
    "[[back to top](#myTSNE)]"
   ]
  },
  {
   "cell_type": "markdown",
   "metadata": {},
   "source": [
    "<a id='myLinearPCA'></a>\n",
    "\n",
    "   ## Function: myLinearPCA (refined dataset ,  refined classes, labels)"
   ]
  },
  {
   "cell_type": "code",
   "execution_count": null,
   "metadata": {
    "collapsed": true
   },
   "outputs": [],
   "source": [
    "# %load ../functions/myLinearPCA.py\n",
    "\"\"\"\n",
    "\n",
    "\n",
    "@author: zx621293\n",
    "\"\"\"\n",
    "\n",
    "def myLinearPCA(X,label_refine,label):\n",
    "    n = X.shape[0]\n",
    "    if len(label_refine) != n:\n",
    "        label_refine = [0]*n\n",
    "        label = ['no ground truth']\n",
    "        print('No ground truth provided in this dataset')   \n",
    "    pca = PCA(svd_solver='randomized')\n",
    "    t0 = time()\n",
    "    X_pca = pca.fit_transform(X)\n",
    "    t1 = time()    \n",
    "    k = len(label)\n",
    "\n",
    "    loadings = pca.components_\n",
    "    \n",
    "\n",
    "    plt.figure(figsize=(20, 10))\n",
    "    plt.suptitle(\"Linear PCA on dataset with accepted %i experiments, each with %i covariates. \\nClasses: %s. Time: %.2fs\" \n",
    "                 % (X.shape[0],X.shape[1],label,t1-t0), fontsize=24)\n",
    "    for i in [1,2]:\n",
    "        plt.subplot(1, 2, i)\n",
    "        #, aspect='equal'\n",
    "        for j,lab in zip(np.linspace(0,k-1,k).astype('int'),label):\n",
    "            plt.scatter(X_pca[label_refine==j, np.mod(i,2)], \n",
    "                              X_pca[label_refine==j, np.mod(i,2)+1],cmap=plt.cm.Spectral,label=lab)\n",
    "        plt.xlabel(\"%i principal component\"%(np.mod(i,2)+1),fontsize=14)\n",
    "        plt.ylabel(\"%i principal component\"%(np.mod(i,2)+2),fontsize=14)\n",
    "        plt.legend(loc=4)\n",
    "        plt.axis()   \n",
    "    plt.show()\n",
    "    \n",
    "    return X_pca,loadings;\n",
    "\n"
   ]
  },
  {
   "cell_type": "markdown",
   "metadata": {},
   "source": [
    "[[back to top](#myLinearPCA)]"
   ]
  },
  {
   "cell_type": "markdown",
   "metadata": {},
   "source": [
    "<a id='myGKernelPCA'></a>\n",
    "\n",
    "## Function: myGKernelPCA (refined dataset, refined classes, labels, gamma)"
   ]
  },
  {
   "cell_type": "code",
   "execution_count": null,
   "metadata": {
    "collapsed": true
   },
   "outputs": [],
   "source": [
    "# %load ../functions/myGKernelPCA.py\n",
    "\"\"\"\n",
    "Created on Mon Sep  4 15:41:11 2017\n",
    "\n",
    "@author: zx621293\n",
    "\"\"\"\n",
    "\n",
    "\n",
    "\n",
    "####################KERNEL PCA\n",
    "def myGKernelPCA (X, label_refine,label, gamma):\n",
    "    n = X.shape[0]\n",
    "    if len(label_refine) != n:\n",
    "        label_refine = [0]*n\n",
    "        label = ['no ground truth']\n",
    "        print('No ground truth provided in this dataset')\n",
    "        \n",
    "    gamma=gamma*2\n",
    "    gamma.sort()\n",
    "    l = len(gamma)\n",
    "    k = len(label)\n",
    "    plt.figure(figsize=(30,(5*l))) \n",
    "    plt.suptitle(\"Kernel PCA on dataset with accepted %i experiments, each with %i covariates. \\nClasses: %s \" \n",
    "                 % (X.shape[0],X.shape[1],label), fontsize=24)\n",
    "    for i,gam in zip(np.linspace(1,l,l).astype(\"int\"),gamma):\n",
    "        t0=time()\n",
    "        kpca = KernelPCA(kernel=\"rbf\", fit_inverse_transform=True, gamma=gam)\n",
    "        X_kpca = kpca.fit_transform(X)\n",
    "        t1=time()\n",
    "        print(\"Gaussian PCA with gamma %.2f: %.2g sec\" % (gam,t1 - t0))\n",
    "        #X_back = kpca.inverse_transform(X_kpca)        \n",
    "        plt.subplot((l/2), 2, i)\n",
    "        plt.title(\"Projection by Gaussian-kPCA, gamma = %.2f (%.2g sec)\" %(gam,t1-t0))\n",
    "        for j,lab in zip(np.linspace(0,k-1,k),label):\n",
    "            plt.scatter(X_kpca[label_refine==j, np.mod(i,2)], X_kpca[label_refine==j, np.mod(i,2)+1]#\n",
    "                               ,cmap=plt.cm.Spectral,label=lab)\n",
    "        plt.xlabel(\"%i principal component\"%(np.mod(i,2)+1),fontsize=14)\n",
    "        plt.ylabel(\"%i principal component\"%(np.mod(i,2)+2),fontsize=14)\n",
    "        plt.legend(loc=1)\n",
    "        plt.axis()       \n",
    "    loadings = kpca.alphas_\n",
    "    plt.show()\n",
    "    return X_kpca,loadings;"
   ]
  },
  {
   "cell_type": "markdown",
   "metadata": {},
   "source": [
    "[[back to top](#myGKernelPCA)]"
   ]
  },
  {
   "cell_type": "markdown",
   "metadata": {},
   "source": [
    "<a id='myFA'></a>\n",
    "\n",
    "   ## Function: myFA (refined dataset ,  refined classes, labels, n_components, maximum iteration)"
   ]
  },
  {
   "cell_type": "code",
   "execution_count": null,
   "metadata": {
    "collapsed": true
   },
   "outputs": [],
   "source": [
    "# %load ../functions/myFA.py\n",
    "\"\"\"\n",
    "Created on Mon Sep  4 15:44:28 2017\n",
    "\n",
    "@author: zx621293\n",
    "\"\"\"\n",
    "\n",
    "def myFA (X, label_refine, label, n_components, max_iter=2):\n",
    "    n = X.shape[0]\n",
    "    if len(label_refine) != n:\n",
    "        label_refine = [0]*n\n",
    "        label = ['no ground truth']\n",
    "        print('No ground truth provided in this dataset')\n",
    "        \n",
    "    estimator = decomposition.FactorAnalysis(n_components=n_components, max_iter=2)\n",
    "    t0=time()  \n",
    "    X_fa = estimator.fit_transform(X)\n",
    "    t1=time()\n",
    "    plt.figure(figsize=(30,10)) \n",
    "    plt.suptitle(\"Factor Analysis on dataset with accepted %i experiments, each with %i covariates. \\nClasses: %s \" \n",
    "                 % (X.shape[0],X.shape[1],label), fontsize=24)\n",
    "    \n",
    "    \n",
    "    k = len(label)\n",
    "\n",
    "    for i in [1,2]:\n",
    "        plt.subplot(1, 2, i)\n",
    "        plt.title(\"Independent components - FastICA' (%.2g sec)\" %(t1-t0))\n",
    "        for j,lab in zip(np.linspace(0,k-1,k),label):\n",
    "            plt.scatter(X_fa[label_refine==j, np.mod(i,2)], X_fa[label_refine==j, np.mod(i,2)+1]#\n",
    "                               ,cmap=plt.cm.Spectral,label=lab)\n",
    "        plt.xlabel(\"%i principal component\"%(np.mod(i,2)+1),fontsize=14)\n",
    "        plt.ylabel(\"%i principal component\"%(np.mod(i,2)+2),fontsize=14)\n",
    "        plt.legend(loc=1)\n",
    "        plt.axis()\n",
    "        \n",
    "    plt.show()\n",
    "    components = estimator.components_\n",
    "    \n",
    "        \n",
    "    return X_fa,components;"
   ]
  },
  {
   "cell_type": "markdown",
   "metadata": {},
   "source": [
    "[[back to top](#myfa)]"
   ]
  },
  {
   "cell_type": "markdown",
   "metadata": {},
   "source": [
    "<a id='Covariates_interpretation'></a>\n",
    "\n",
    "   ## Function: Covariates_interpretation (principal components,deleted column, covariate list)"
   ]
  },
  {
   "cell_type": "code",
   "execution_count": null,
   "metadata": {
    "collapsed": true
   },
   "outputs": [],
   "source": [
    "# %load ../functions/Covariates_interpretation.py\n",
    "\"\"\"\n",
    "Created on Mon Sep  4 15:47:05 2017\n",
    "\n",
    "@author: zx621293\n",
    "\"\"\"\n",
    "\n",
    "def Covariates_interpretation (components,delcolumn,covariate_list):\n",
    "    min_max_scaler = preprocessing.MinMaxScaler()\n",
    "    p = min_max_scaler.fit_transform(components.T).T\n",
    "    p1 = p[:,0]\n",
    "    p2 = min_max_scaler.fit_transform(p[:,(0,1)].sum(axis=1))\n",
    "    p3 = min_max_scaler.fit_transform(p[:,(0,1,2)].sum(axis=1))\n",
    "    \n",
    "    xaxis = np.linspace(1,len(p3),len(p3))\n",
    "    \n",
    "    plt.figure(figsize=(20, 10)) \n",
    "    plt.plot(xaxis,p3,'--ro',label = 'first three principal component')\n",
    "    plt.plot(xaxis,p2,'--bo',label = 'first two principal component')\n",
    "    plt.plot(xaxis,p1,'--go',label='first principal component')\n",
    "    plt.title(\"The contribution of each protein to first few principal components\",\n",
    "              fontsize=20)\n",
    "    plt.xlabel('Protein covariate')\n",
    "    plt.ylabel('Proportion contributed to leading principal component')\n",
    "    plt.legend(loc=1,fontsize=15)\n",
    "    \n",
    "    #make a table for the three most influencing covariates\n",
    "    ppmax = np.zeros([3,3]).astype('int')\n",
    "    for i,pp in zip([0,1,2],[p1,p2,p3]):\n",
    "        for j in [0,1,2]:\n",
    "            ppmax[i,j] = np.argmax(pp)\n",
    "            pp[ppmax[i,j]]=0\n",
    "                \n",
    "    #consider about the rearranged order of protein due to dataset refinement\n",
    "\n",
    "    import copy\n",
    "    protein_refine = copy.copy(covariate_list)\n",
    "    \n",
    "    for i in delcolumn:\n",
    "        protein_refine.remove(covariate_list[i])     \n",
    "     \n",
    "    table = np.zeros([4,4]).astype('str')  \n",
    "    table[0,0] = 'first # principal components'\n",
    "    if delcolumn != 'NA':\n",
    "        for i,col in zip([1,2,3],delcolumn):\n",
    "            table[i,0] = 'first %i principal components'%(i)\n",
    "            table[i,1:4] = np.array(protein_refine)[list(ppmax[i-1])]\n",
    "        for j in [1,2,3]:\n",
    "            table[0,j] = '%ith covariate'%j    \n",
    "    #print array table\n",
    "        print('\\n'.join(['       '.join(['{:4}'.format(item) for item in row]) \n",
    "      for row in table]))\n",
    "    else:\n",
    "        print('Please determine the column index deleted in the input, if no, assign second input as: NA ')\n",
    "\n",
    "    plt.show()\n",
    "    return table;"
   ]
  },
  {
   "cell_type": "markdown",
   "metadata": {},
   "source": [
    "[[back to top](#Covariates_interpretation)]"
   ]
  },
  {
   "cell_type": "markdown",
   "metadata": {},
   "source": [
    "<a id='myIsomap'></a>\n",
    "\n",
    "   ## Function: myIsomap (input matrix, label, number of neighbors considered)"
   ]
  },
  {
   "cell_type": "code",
   "execution_count": null,
   "metadata": {
    "collapsed": true
   },
   "outputs": [],
   "source": [
    "# %load ../functions/myIsomap.py\n",
    "\"\"\"\n",
    "Created on Thu Sep  7 16:17:46 2017\n",
    "\n",
    "@author: zx621293\n",
    "\"\"\"\n",
    "\n",
    "def myIsomap (X,  color,  n_neighbors, n_components=2):\n",
    "    t0 = time()\n",
    "    Y = manifold.Isomap(n_neighbors, n_components).fit_transform(X)\n",
    "    t1 = time()\n",
    "    fig = plt.figure(figsize=(15, 8))\n",
    "    plt.scatter(Y[:, 0], Y[:, 1], c=color, cmap=plt.cm.Spectral)\n",
    "    plt.title(\"Isomap with %i neighbors considered for each data point (%.2g sec)\" % (n_neighbors, t1 - t0))\n",
    "    plt.axis('tight')\n",
    "    plt.xlabel(\"first principal component\",fontsize=14)\n",
    "    plt.ylabel(\"second principal component\",fontsize=14)\n",
    "    plt.show()\n",
    "    return;"
   ]
  },
  {
   "cell_type": "markdown",
   "metadata": {},
   "source": [
    "[[back to top](#myIsomap)]"
   ]
  },
  {
   "cell_type": "markdown",
   "metadata": {},
   "source": [
    "<a id='myIsomap'></a>\n",
    "\n",
    "   ## Function: myLLE (input matrix, label, number of neighbors considered)"
   ]
  },
  {
   "cell_type": "code",
   "execution_count": null,
   "metadata": {
    "collapsed": true
   },
   "outputs": [],
   "source": [
    "# %load ../functions/myLLE.py\n",
    "\"\"\"\n",
    "Created on Mon Sep 11 15:15:22 2017\n",
    "\n",
    "@author: zx621293\n",
    "\"\"\"\n",
    "def myLLE(X,  color,  n_neighbors, n_components=2):\n",
    "    t0 = time()\n",
    "    Y = manifold.LocallyLinearEmbedding(n_neighbors, n_components,\n",
    "                                            eigen_solver='auto',\n",
    "                                            method='standard').fit_transform(X)\n",
    "    t1 = time()\n",
    "    fig = plt.figure(figsize=(15, 8))\n",
    "    plt.scatter(Y[:, 0], Y[:, 1], c=color, cmap=plt.cm.Spectral)\n",
    "    \n",
    "    plt.title(\"Standard LLE with %i neighbors considered for each data point (%.2g sec)\" % (n_neighbors, t1 - t0))\n",
    "    ax.xaxis.set_major_formatter(NullFormatter())\n",
    "    ax.yaxis.set_major_formatter(NullFormatter())\n",
    "    plt.axis('tight')\n",
    "    plt.show()\n",
    "    return;\n"
   ]
  },
  {
   "cell_type": "markdown",
   "metadata": {},
   "source": [
    "[[back to top](#myLLE)]"
   ]
  },
  {
   "cell_type": "code",
   "execution_count": null,
   "metadata": {
    "collapsed": true
   },
   "outputs": [],
   "source": []
  }
 ],
 "metadata": {
  "kernelspec": {
   "display_name": "Python 3",
   "language": "python",
   "name": "python3"
  },
  "language_info": {
   "codemirror_mode": {
    "name": "ipython",
    "version": 3
   },
   "file_extension": ".py",
   "mimetype": "text/x-python",
   "name": "python",
   "nbconvert_exporter": "python",
   "pygments_lexer": "ipython3",
   "version": "3.6.1"
  }
 },
 "nbformat": 4,
 "nbformat_minor": 2
}
