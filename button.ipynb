{
 "cells": [
  {
   "cell_type": "code",
   "execution_count": null,
   "metadata": {
    "collapsed": true
   },
   "outputs": [],
   "source": [
    "%%javascript\n",
    "\n",
    "$('#maintoolbar-container').children('#toggleButton').remove()\n",
    "\n",
    "var toggle_button = (\"<button id='toggleButton' type='button'>Show Code</button>\");\n",
    "$('#maintoolbar-container').append(toggle_button);\n",
    "\n",
    "var code_shown = false;\n",
    "\n",
    "function code_toggle()\n",
    "{\n",
    "\n",
    "    if (code_shown)\n",
    "    {\n",
    "        console.log(\"code shown\")\n",
    "        $('div.input').hide('500');\n",
    "        $('#toggleButton').text('Show Code');\n",
    "    }\n",
    "    else\n",
    "    {\n",
    "        console.log(\"code not shown\")\n",
    "        $('div.input').show('500');\n",
    "        $('#toggleButton').text('Hide Code');\n",
    "    }\n",
    "\n",
    "    code_shown = !code_shown;\n",
    "}\n",
    "\n",
    "$(document).ready(function()\n",
    "{\n",
    "    code_shown=false;\n",
    "    $('div.input').hide();\n",
    "});\n",
    "\n",
    "$('#toggleButton').on('click', code_toggle);\n"
   ]
  }
 ],
 "metadata": {
  "kernelspec": {
   "display_name": "Python 3",
   "language": "python",
   "name": "python3"
  },
  "language_info": {
   "codemirror_mode": {
    "name": "ipython",
    "version": 3
   },
   "file_extension": ".py",
   "mimetype": "text/x-python",
   "name": "python",
   "nbconvert_exporter": "python",
   "pygments_lexer": "ipython3",
   "version": "3.6.1"
  }
 },
 "nbformat": 4,
 "nbformat_minor": 2
}
