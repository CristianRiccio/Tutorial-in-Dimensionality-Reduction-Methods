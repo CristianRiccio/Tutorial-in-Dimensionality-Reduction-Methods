{
 "cells": [
  {
   "cell_type": "markdown",
   "metadata": {},
   "source": [
    "<a id=\"top\"></a>\n",
    "<center><h1>Summary Table</h1></center>\n",
    "----\n",
    "[[back to outline](../Tutorial notebook.ipynb#top)]"
   ]
  },
  {
   "cell_type": "markdown",
   "metadata": {},
   "source": [
    "  Definition  | Data Type     | Chracteristic | Parameter Tuning| Linearity Related to Input Space| Data Retrievable\n",
    "  ------------- | ------------- | ------------- | ------------- | ------------- | -------------\n",
    "  [**Linear PCA**](../definition/definition.ipynb#pca)   |  [B]()| [C]()   | [D]()  |  [Linear]() | [E]() |\n",
    "  [**Kernel PCA**](../definition/definition.ipynb#kernel pca)|  [B]()| [C]()   | [D]()  |  [Linear]() | [E]() |\n",
    "  [**t-SNE**](../definition/definition.ipynb#tsne)|  [B]()| [C]()   | [D]()  |  [Linear]() | [E]() |\n",
    "  [**Isomap **](../definition/definition.ipynb#isomap) |  [B]()| [C]()   | [D]()  |  [Linear]() | [E]() |\n",
    "  [**LLE **](../definition/definition.ipynb#lle) |  [B]()| [C]()   | [D]()  |  [Linear]() | [E]() |"
   ]
  },
  {
   "cell_type": "code",
   "execution_count": null,
   "metadata": {
    "collapsed": true
   },
   "outputs": [],
   "source": []
  }
 ],
 "metadata": {
  "kernelspec": {
   "display_name": "Python 3",
   "language": "python",
   "name": "python3"
  },
  "language_info": {
   "codemirror_mode": {
    "name": "ipython",
    "version": 3
   },
   "file_extension": ".py",
   "mimetype": "text/x-python",
   "name": "python",
   "nbconvert_exporter": "python",
   "pygments_lexer": "ipython3",
   "version": "3.6.1"
  }
 },
 "nbformat": 4,
 "nbformat_minor": 2
}
